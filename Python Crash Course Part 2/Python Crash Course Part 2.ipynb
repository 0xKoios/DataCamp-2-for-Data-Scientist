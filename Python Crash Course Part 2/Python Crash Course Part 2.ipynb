{
 "cells": [
  {
   "cell_type": "markdown",
   "metadata": {},
   "source": [
    "# Quiz 1"
   ]
  },
  {
   "cell_type": "markdown",
   "metadata": {},
   "source": [
    "### 1) เขียนโปรแกรมรับ input จากผู้ใช้ 1 ตัว แปลงให้เป็น int และตรวจสอบว่าเป็นเลขคู่หรือเลขคี่ \n",
    "\n",
    "\t- หากเป็นเลขคู่ ให้พิมพ์ว่า เลขคู่\n",
    "\n",
    "\t- หากเป็นเลขคี่ ให้พิมพ์ว่า เลขคี่\n",
    "\n",
    "\t- หากเป็นเลขศูนย์ให้พิมพ์ว่า เลขศูนย์"
   ]
  },
  {
   "cell_type": "code",
   "execution_count": 6,
   "metadata": {},
   "outputs": [
    {
     "name": "stdout",
     "output_type": "stream",
     "text": [
      "NUMEBER: 4\n"
     ]
    }
   ],
   "source": [
    "number = int(input(\"NUMEBER: \"))"
   ]
  },
  {
   "cell_type": "code",
   "execution_count": 7,
   "metadata": {},
   "outputs": [
    {
     "name": "stdout",
     "output_type": "stream",
     "text": [
      "เลขคู่\n"
     ]
    }
   ],
   "source": [
    "if number == 0:\n",
    "    print(\"เลขศูนย์\")\n",
    "elif number % 3 == 0:\n",
    "    print(\"เลขคี่\")\n",
    "elif number % 2 == 0:\n",
    "    print(\"เลขคู่\")"
   ]
  },
  {
   "cell_type": "markdown",
   "metadata": {},
   "source": [
    "-----------------"
   ]
  },
  {
   "cell_type": "markdown",
   "metadata": {},
   "source": [
    "### 2. เขียนโปรแกรมรับค่า input 2 ตัว ในรูปแบบ float โดยให้ตัวแรกเป็นตัวตั้ง ตัวที่สองเป็นตัวหาร\n",
    "\n",
    "\t- หาผลลัพธ์ของการหาร\n",
    "\n",
    "\t- ใส่เลขทศนิยมได้\n",
    "\n",
    "\t- ถ้าตัวหารเป็น 0 ให้รับค่าใหม่จนกว่าจะเป็นเลขที่หารได้  \n"
   ]
  },
  {
   "cell_type": "code",
   "execution_count": 12,
   "metadata": {},
   "outputs": [
    {
     "name": "stdout",
     "output_type": "stream",
     "text": [
      "ENTER X: 6\n",
      "ENTER Y: 0\n",
      "ENTER Y: 0\n",
      "ENTER Y: 0\n",
      "ENTER Y: 0\n",
      "ENTER Y: 6\n",
      "OUTPUI X/Y:  1.0\n"
     ]
    }
   ],
   "source": [
    "x = float(input(\"ENTER X: \"))\n",
    "y = float(input(\"ENTER Y: \"))\n",
    "\n",
    "while y == 0:\n",
    "    y = float(input(\"ENTER Y: \"))\n",
    "\n",
    "print(\"OUTPUI X/Y: \", x/y)"
   ]
  },
  {
   "cell_type": "markdown",
   "metadata": {},
   "source": [
    "---------------------------"
   ]
  },
  {
   "cell_type": "markdown",
   "metadata": {},
   "source": [
    "### 3. เขียนโปรแกรม infinity while loop โดยรับค่า input มาเรื่อยๆ จนกว่าผู้ใช้จะใส่เลข 0 และนำเลขทั้งหมดมาหาค่าเฉลี่ย"
   ]
  },
  {
   "cell_type": "code",
   "execution_count": 15,
   "metadata": {},
   "outputs": [
    {
     "name": "stdout",
     "output_type": "stream",
     "text": [
      "ENTER X: 4\n",
      "ENTER X: 4\n",
      "ENTER X: 4\n",
      "ENTER X: 0\n",
      "Average X: 4.0\n"
     ]
    }
   ],
   "source": [
    "x = float(input(\"ENTER X: \"))\n",
    "y = []\n",
    "while x != 0:\n",
    "    y.append(x)\n",
    "    x = float(input(\"ENTER X: \"))\n",
    "\n",
    "print(\"Average X:\", sum(y)/len(y))"
   ]
  },
  {
   "cell_type": "markdown",
   "metadata": {},
   "source": [
    "----------------------------"
   ]
  },
  {
   "cell_type": "markdown",
   "metadata": {},
   "source": [
    "### 4. เขียนโปรมแกรมรับค่า input ที่เป็น integer มาหนึ่งตัว ตรวจสอบว่าเลขนั้นหาร 7 ลงตัวหรือไม่\n",
    "\n",
    "\t- ถ้าหารลงตัว ให้ปริ้น ‘หาร 7 ลงตัว’\n",
    "\n",
    "\t - ถ้าหารไม่ลงตัว ให้ปริ้น ‘หาร 7 ไม่ลงตัว’\n"
   ]
  },
  {
   "cell_type": "code",
   "execution_count": 16,
   "metadata": {},
   "outputs": [
    {
     "name": "stdout",
     "output_type": "stream",
     "text": [
      "ENTER X: 7\n",
      "หาร 7 ลงตัว\n"
     ]
    }
   ],
   "source": [
    "x = int(input(\"ENTER X: \"))\n",
    "\n",
    "if x % 7 == 0:\n",
    "    print(\"หาร 7 ลงตัว\")\n",
    "else:\n",
    "    print(\"หาร 7 ไม่ลงตัว\")"
   ]
  },
  {
   "cell_type": "markdown",
   "metadata": {},
   "source": [
    "--------------"
   ]
  },
  {
   "attachments": {
    "Rtriangle.png": {
     "image/png": "[encoded data removed]"
    }
   },
   "cell_type": "markdown",
   "metadata": {},
   "source": [
    "### 5. เขียนโปรแกรมรับค่า int มา 3 จำนวน และตรวจสอบว่า 3 เลขนั้นสามารถนำมาสร้าง 3 เหลี่ยมมุมฉากได้หรือไม่\n",
    "\n",
    "![Rtriangle.png](attachment:Rtriangle.png)\n"
   ]
  },
  {
   "cell_type": "code",
   "execution_count": 20,
   "metadata": {},
   "outputs": [
    {
     "name": "stdout",
     "output_type": "stream",
     "text": [
      "a = 3\n",
      "b = 4\n",
      "c = 5\n",
      "CAN\n"
     ]
    }
   ],
   "source": [
    "a = int(input(\"a = \"))\n",
    "b = int(input(\"b = \"))\n",
    "c = int(input(\"c = \"))\n",
    "\n",
    "if z**2 == (x**2) + (y**2):\n",
    "    print(\"CAN\")\n",
    "else:\n",
    "    print(\"CAN'T\")"
   ]
  },
  {
   "cell_type": "markdown",
   "metadata": {},
   "source": [
    "### 6. เขียนโปรแกรมรับค่า int มา 3 จำนวน และตรวจสอบว่าเมื่อนำ 3 เลขนั้นมาสร้าง 3 เหลี่ยม จะได้สามเหลี่ยมแบบใด\n",
    "\t\n",
    "\t- สามเหลี่ยมมุมแหลม\n",
    "\n",
    "\t- สามเหลี่ยมมุมป้าน\n",
    "\n",
    "\t- สามเหลี่ยมมุมฉาก\n"
   ]
  },
  {
   "cell_type": "code",
   "execution_count": null,
   "metadata": {},
   "outputs": [],
   "source": []
  }
 ],
 "metadata": {
  "kernelspec": {
   "display_name": "Python 3",
   "language": "python",
   "name": "python3"
  },
  "language_info": {
   "codemirror_mode": {
    "name": "ipython",
    "version": 3
   },
   "file_extension": ".py",
   "mimetype": "text/x-python",
   "name": "python",
   "nbconvert_exporter": "python",
   "pygments_lexer": "ipython3",
   "version": "3.7.6"
  }
 },
 "nbformat": 4,
 "nbformat_minor": 4
}
